{
 "cells": [
  {
   "cell_type": "code",
   "execution_count": 0,
   "metadata": {
    "colab": {},
    "colab_type": "code",
    "id": "K_JaRZR9SdIr"
   },
   "outputs": [],
   "source": [
    "import os\n",
    "import cv2\n",
    "import keras\n",
    "import argparse\n",
    "import pickle\n",
    "import numpy as np\n",
    "from glob import glob\n",
    "from sklearn.model_selection import train_test_split\n",
    "from sklearn.preprocessing import LabelEncoder\n",
    "from imutils import paths"
   ]
  },
  {
   "cell_type": "markdown",
   "metadata": {
    "colab_type": "text",
    "id": "3oPWtD2VT-L7"
   },
   "source": [
    "**Specify the path to the data and create two empty lists for the image data and the labels**"
   ]
  },
  {
   "cell_type": "code",
   "execution_count": 0,
   "metadata": {
    "colab": {},
    "colab_type": "code",
    "id": "V1ub0AeJRa47"
   },
   "outputs": [],
   "source": [
    "imagePaths = list(glob('/content/drive/My Drive/Candidate Interview.zip (Unzipped Files)/Candidate Interview/*/*'))\n",
    "data = []\n",
    "labels = []"
   ]
  },
  {
   "cell_type": "markdown",
   "metadata": {
    "colab_type": "text",
    "id": "iRKc_luYR29W"
   },
   "source": [
    "**\n",
    "\n",
    "*   Get the images into a list\n",
    "*   Resized them and scaled them\n",
    "\n",
    "\n",
    "*  Append Labels on them; Here I used the file names(real and spoof) as the labels\n",
    "\n",
    "\n",
    "\n",
    "\n",
    "\n",
    "\n",
    "**"
   ]
  },
  {
   "cell_type": "code",
   "execution_count": 0,
   "metadata": {
    "colab": {},
    "colab_type": "code",
    "id": "VdmUd7c-Rkib"
   },
   "outputs": [],
   "source": [
    "\n",
    "for imagePath in imagePaths:\n",
    "  print(\"Resize Images\")\n",
    "  label = imagePath.split(os.path.sep)[-2]\n",
    "  image = cv2.imread(imagePath)\n",
    "  image = cv2.resize(image, (224,224))/255.0\n",
    "\n",
    "  data.append(image)\n",
    "  labels.append(label)\n",
    "\n"
   ]
  },
  {
   "cell_type": "markdown",
   "metadata": {
    "colab_type": "text",
    "id": "wCcmM4hWSPz7"
   },
   "source": [
    "**Passed the list of images into an array and encoded the labels as integers using Label Encoder**"
   ]
  },
  {
   "cell_type": "code",
   "execution_count": 0,
   "metadata": {
    "colab": {},
    "colab_type": "code",
    "id": "u-we54lgRzDg"
   },
   "outputs": [],
   "source": [
    "#Encode the labels as integers.\n",
    "data = np.array(data, dtype=\"float\") \n",
    "le = LabelEncoder()\n",
    "labels = le.fit_transform(labels)\n",
    "labels = np_utils.to_categorical(labels, 2)"
   ]
  },
  {
   "cell_type": "markdown",
   "metadata": {
    "colab_type": "text",
    "id": "p44kmElqTYPb"
   },
   "source": [
    "**Then Use train_test_split to split the data into training and test data**"
   ]
  },
  {
   "cell_type": "code",
   "execution_count": 0,
   "metadata": {
    "colab": {},
    "colab_type": "code",
    "id": "hZynpcwxTYqB"
   },
   "outputs": [],
   "source": [
    "(X_train, X_test, Y_train, Y_test) = train_test_split(data, labels,\n",
    "\ttest_size=0.25, random_state=42)"
   ]
  }
 ],
 "metadata": {
  "colab": {
   "name": "Moshood  Adekunjo - Preprocessing.ipynb",
   "provenance": []
  },
  "kernelspec": {
   "display_name": "Python 3",
   "language": "python",
   "name": "python3"
  },
  "language_info": {
   "codemirror_mode": {
    "name": "ipython",
    "version": 3
   },
   "file_extension": ".py",
   "mimetype": "text/x-python",
   "name": "python",
   "nbconvert_exporter": "python",
   "pygments_lexer": "ipython3",
   "version": "3.8.5"
  }
 },
 "nbformat": 4,
 "nbformat_minor": 1
}
