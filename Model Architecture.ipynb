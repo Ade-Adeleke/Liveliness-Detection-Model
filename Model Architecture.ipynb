{
 "cells": [
  {
   "cell_type": "code",
   "execution_count": 0,
   "metadata": {
    "colab": {},
    "colab_type": "code",
    "id": "I_ds3rY0Yd5o"
   },
   "outputs": [],
   "source": [
    "\n",
    "import os\n",
    "import cv2\n",
    "import keras\n",
    "import argparse\n",
    "import pickle\n",
    "import numpy as np\n",
    "from glob import glob\n",
    "from keras.applications import vgg16\n",
    "from keras.models import Model\n",
    "from keras.layers import Flatten, Dense, Input, Dropout\n",
    "from keras_vggface.vggface import VGGFace\n",
    "from keras.utils import Sequence\n",
    "from keras.callbacks import ModelCheckpoint\n",
    "from keras.optimizers import Adam\n",
    "import tensorflow as tf\n",
    "from keras import backend as K\n",
    "from sklearn.model_selection import train_test_split\n",
    "from sklearn.preprocessing import LabelEncoder\n",
    "from sklearn.metrics import classification_report\n",
    "from keras.preprocessing.image import ImageDataGenerator\n",
    "from keras.utils import np_utils\n",
    "from imutils import paths\n",
    "import matplotlib.pyplot as plt\n",
    "from keras.layers.normalization import BatchNormalization\n",
    "from keras.layers import Conv2D, MaxPooling2D, GlobalAveragePooling2D\n",
    "from keras.layers import Dropout, Flatten, Dense, Activation\n",
    "from keras.models import Sequential\n",
    "\n",
    "\n",
    "\n",
    "\n",
    "\n"
   ]
  },
  {
   "cell_type": "code",
   "execution_count": 0,
   "metadata": {
    "colab": {},
    "colab_type": "code",
    "id": "eUoclDTFQ9nR"
   },
   "outputs": [],
   "source": [
    "VGG16_model = Sequential()\n",
    "VGG16_model.add(Conv2D(16, (3, 3), padding=\"same\",input_shape=(224,224,3)))\n",
    "VGG16_model.add(Activation(\"relu\"))\n",
    "VGG16_model.add(BatchNormalization(axis=-1))\n",
    "VGG16_model.add(Conv2D(16, (3, 3), padding=\"same\"))\n",
    "VGG16_model.add(Activation(\"relu\"))\n",
    "VGG16_model.add(BatchNormalization(axis=-1))\n",
    "VGG16_model.add(MaxPooling2D(pool_size=(2, 2)))\n",
    "VGG16_model.add(Dropout(0.25))\n",
    "\n",
    "\t\t# second CONV => RELU => CONV => RELU => POOL layer set\n",
    "VGG16_model.add(Conv2D(32, (3, 3), padding=\"same\"))\n",
    "VGG16_model.add(Activation(\"relu\"))\n",
    "VGG16_model.add(BatchNormalization(axis=-1))\n",
    "VGG16_model.add(Conv2D(32, (3, 3), padding=\"same\"))\n",
    "VGG16_model.add(Activation(\"relu\"))\n",
    "VGG16_model.add(BatchNormalization(axis=-1))\n",
    "VGG16_model.add(MaxPooling2D(pool_size=(2, 2)))\n",
    "VGG16_model.add(Dropout(0.25))\n",
    "\n",
    "\t\t# first (and only) set of FC => RELU layers\n",
    "VGG16_model.add(Flatten())\n",
    "VGG16_model.add(Dense(64))\n",
    "VGG16_model.add(Activation(\"relu\"))\n",
    "VGG16_model.add(BatchNormalization())\n",
    "VGG16_model.add(Dropout(0.5))\n",
    "\n",
    "\t\t# softmax classifier\n",
    "VGG16_model.add(Dense(2))\n",
    "VGG16_model.add(Activation(\"softmax\"))\n",
    "\n",
    "VGG16_model.summary()"
   ]
  },
  {
   "cell_type": "code",
   "execution_count": 0,
   "metadata": {
    "colab": {},
    "colab_type": "code",
    "id": "SzWmGfTTRFef"
   },
   "outputs": [],
   "source": [
    "liveness_model = VGG16_model"
   ]
  },
  {
   "cell_type": "code",
   "execution_count": 0,
   "metadata": {
    "colab": {},
    "colab_type": "code",
    "id": "9pXtvu9-RGfA"
   },
   "outputs": [],
   "source": [
    "liveness_model.summary()"
   ]
  },
  {
   "cell_type": "code",
   "execution_count": 0,
   "metadata": {
    "colab": {},
    "colab_type": "code",
    "id": "_cHcz6JhROIc"
   },
   "outputs": [],
   "source": [
    "liveness_model.compile(loss='categorical_crossentropy', optimizer='rmsprop', metrics=['accuracy'])"
   ]
  }
 ],
 "metadata": {
  "colab": {
   "name": "Moshood Adekunjo - Model.ipynb",
   "provenance": []
  },
  "kernelspec": {
   "display_name": "Python 3",
   "language": "python",
   "name": "python3"
  },
  "language_info": {
   "codemirror_mode": {
    "name": "ipython",
    "version": 3
   },
   "file_extension": ".py",
   "mimetype": "text/x-python",
   "name": "python",
   "nbconvert_exporter": "python",
   "pygments_lexer": "ipython3",
   "version": "3.8.5"
  }
 },
 "nbformat": 4,
 "nbformat_minor": 1
}
